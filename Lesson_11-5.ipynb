{
 "cells": [
  {
   "cell_type": "code",
   "execution_count": 1,
   "id": "fa49040e-2064-4a97-92d0-ac7e0edc1f05",
   "metadata": {},
   "outputs": [],
   "source": [
    "import numpy as np"
   ]
  },
  {
   "cell_type": "markdown",
   "id": "c6c79b27-5c16-4b8e-a397-7f39a3dd89e3",
   "metadata": {},
   "source": [
    "2.B.1 Using loops w arrays"
   ]
  },
  {
   "cell_type": "code",
   "execution_count": null,
   "id": "0bfd3e86-3002-4dbe-b49a-ef8a89867781",
   "metadata": {},
   "outputs": [],
   "source": [
    "array1d = np.array"
   ]
  },
  {
   "cell_type": "code",
   "execution_count": null,
   "id": "60c620d8-817d-4948-b11e-784ffd40d65f",
   "metadata": {},
   "outputs": [],
   "source": []
  },
  {
   "cell_type": "code",
   "execution_count": 113,
   "id": "fc83894b-93fc-4897-959e-307ba0edada1",
   "metadata": {},
   "outputs": [
    {
     "name": "stdout",
     "output_type": "stream",
     "text": [
      "[[8 7]\n",
      " [6 5]]\n",
      "[[4 3]\n",
      " [2 1]]\n"
     ]
    }
   ],
   "source": [
    "arr3d = np.array([[[8,7], [6,5]],[[4, 3],[2,1]]])\n",
    "\n",
    "for i in arr3d:\n",
    "    print(i)"
   ]
  },
  {
   "cell_type": "markdown",
   "id": "9e74b446-dcab-4aa4-bdd5-8a194759c14d",
   "metadata": {},
   "source": [
    "joinging arrays with concatenate()"
   ]
  },
  {
   "cell_type": "code",
   "execution_count": null,
   "id": "a64b0e01-1627-4f7f-a77c-b3f2f228dfe9",
   "metadata": {},
   "outputs": [],
   "source": []
  },
  {
   "cell_type": "code",
   "execution_count": null,
   "id": "f528ec83-ef5d-4afd-acd3-5dc02ffa946a",
   "metadata": {},
   "outputs": [],
   "source": []
  },
  {
   "cell_type": "code",
   "execution_count": null,
   "id": "77ce1b84-43db-42ce-a3ce-88531e3040d3",
   "metadata": {},
   "outputs": [],
   "source": []
  },
  {
   "cell_type": "code",
   "execution_count": 5,
   "id": "850755ca-4fc5-49d4-a933-7bbb49bacf07",
   "metadata": {},
   "outputs": [],
   "source": [
    "arr_a = np.array([1,2,3])\n",
    "arr_b = np.array([11,12,13])"
   ]
  },
  {
   "cell_type": "code",
   "execution_count": 6,
   "id": "6d8eab02-8ea9-499f-83e7-7ea3e06375e7",
   "metadata": {},
   "outputs": [
    {
     "data": {
      "text/plain": [
       "array([ 1,  2,  3, 11, 12, 13])"
      ]
     },
     "execution_count": 6,
     "metadata": {},
     "output_type": "execute_result"
    }
   ],
   "source": [
    "arr_c = np.concatenate((arr_a, arr_b))\n",
    "arr_c"
   ]
  },
  {
   "cell_type": "code",
   "execution_count": 8,
   "id": "bead84c6-c766-4de6-b4c9-c359e8788899",
   "metadata": {},
   "outputs": [
    {
     "data": {
      "text/plain": [
       "array([ 1,  2,  3, 11, 12, 13])"
      ]
     },
     "execution_count": 8,
     "metadata": {},
     "output_type": "execute_result"
    }
   ],
   "source": [
    "arr_d = np.concatenate((arr_a,arr_b), axis = 0)\n",
    "arr_d"
   ]
  },
  {
   "cell_type": "raw",
   "id": "5142cf95-f8df-4911-abbe-9cdf6834a729",
   "metadata": {},
   "source": []
  },
  {
   "cell_type": "code",
   "execution_count": 9,
   "id": "26e0840c-9117-40bb-907c-8460a687678f",
   "metadata": {},
   "outputs": [
    {
     "data": {
      "text/plain": [
       "array([[ 1, 11],\n",
       "       [ 2, 12],\n",
       "       [ 3, 13]])"
      ]
     },
     "execution_count": 9,
     "metadata": {},
     "output_type": "execute_result"
    }
   ],
   "source": [
    "arr_stacked = np.stack((arr_a,arr_b), axis = 1)\n",
    "arr_stacked"
   ]
  },
  {
   "cell_type": "code",
   "execution_count": 10,
   "id": "925af9a0-8f0d-4b40-88c4-9ec47142adc8",
   "metadata": {},
   "outputs": [
    {
     "data": {
      "text/plain": [
       "array([[ 1, 11],\n",
       "       [ 2, 12],\n",
       "       [ 3, 13],\n",
       "       [ 1, 11],\n",
       "       [ 2, 12],\n",
       "       [ 3, 13]])"
      ]
     },
     "execution_count": 10,
     "metadata": {},
     "output_type": "execute_result"
    }
   ],
   "source": [
    "stack_of_stacks = np.concatenate((arr_stacked, arr_stacked))\n",
    "stack_of_stacks"
   ]
  },
  {
   "cell_type": "code",
   "execution_count": 11,
   "id": "1b184b42",
   "metadata": {},
   "outputs": [
    {
     "data": {
      "text/plain": [
       "array([[ 1, 11,  1, 11],\n",
       "       [ 2, 12,  2, 12],\n",
       "       [ 3, 13,  3, 13]])"
      ]
     },
     "execution_count": 11,
     "metadata": {},
     "output_type": "execute_result"
    }
   ],
   "source": [
    "stack_of_stacks2 = np.concatenate((arr_stacked,arr_stacked), axis = 1)\n",
    "stack_of_stacks2"
   ]
  },
  {
   "cell_type": "code",
   "execution_count": 13,
   "id": "2a9ef310",
   "metadata": {},
   "outputs": [
    {
     "data": {
      "text/plain": [
       "array([[ 1, 11],\n",
       "       [ 2, 12],\n",
       "       [ 3, 13],\n",
       "       [ 1, 11],\n",
       "       [ 2, 12],\n",
       "       [ 3, 13]])"
      ]
     },
     "execution_count": 13,
     "metadata": {},
     "output_type": "execute_result"
    }
   ],
   "source": [
    "ex_vstack = np.vstack((arr_stacked,arr_stacked))\n",
    "ex_vstack"
   ]
  },
  {
   "cell_type": "code",
   "execution_count": null,
   "id": "ae33d922",
   "metadata": {},
   "outputs": [],
   "source": []
  },
  {
   "cell_type": "code",
   "execution_count": 14,
   "id": "df8b4eb0-8f40-4169-9d07-54dd6d141227",
   "metadata": {},
   "outputs": [
    {
     "data": {
      "text/plain": [
       "array([[ 1, 11,  1, 11],\n",
       "       [ 2, 12,  2, 12],\n",
       "       [ 3, 13,  3, 13]])"
      ]
     },
     "execution_count": 14,
     "metadata": {},
     "output_type": "execute_result"
    }
   ],
   "source": [
    "ex_hstack = np.hstack((arr_stacked,arr_stacked))\n",
    "ex_hstack"
   ]
  },
  {
   "cell_type": "code",
   "execution_count": 16,
   "id": "b2855d57-f21a-499d-8023-06c2a7c94ddc",
   "metadata": {},
   "outputs": [
    {
     "data": {
      "text/plain": [
       "array([[[ 1,  1],\n",
       "        [11, 11]],\n",
       "\n",
       "       [[ 2,  2],\n",
       "        [12, 12]],\n",
       "\n",
       "       [[ 3,  3],\n",
       "        [13, 13]]])"
      ]
     },
     "execution_count": 16,
     "metadata": {},
     "output_type": "execute_result"
    }
   ],
   "source": [
    "ex_dstack = np.dstack((arr_stacked, arr_stacked))\n",
    "ex_dstack"
   ]
  },
  {
   "cell_type": "markdown",
   "id": "5b13d176-2a99-449c-88bc-7f6bd85075a9",
   "metadata": {},
   "source": [
    "2.B.5 Splitting arrays"
   ]
  },
  {
   "cell_type": "code",
   "execution_count": 17,
   "id": "7551b8a0-e409-4d82-bbb0-0c6177758c63",
   "metadata": {},
   "outputs": [
    {
     "data": {
      "text/plain": [
       "array([[ 1, 11],\n",
       "       [ 2, 12],\n",
       "       [ 3, 13],\n",
       "       [ 1, 11],\n",
       "       [ 2, 12],\n",
       "       [ 3, 13]])"
      ]
     },
     "execution_count": 17,
     "metadata": {},
     "output_type": "execute_result"
    }
   ],
   "source": [
    "ex_vstack"
   ]
  },
  {
   "cell_type": "code",
   "execution_count": 20,
   "id": "fa872730-54a7-4eae-94c7-e298ee6171bd",
   "metadata": {},
   "outputs": [
    {
     "data": {
      "text/plain": [
       "[array([[ 1, 11],\n",
       "        [ 2, 12]]),\n",
       " array([[ 3, 13],\n",
       "        [ 1, 11]]),\n",
       " array([[ 2, 12],\n",
       "        [ 3, 13]])]"
      ]
     },
     "execution_count": 20,
     "metadata": {},
     "output_type": "execute_result"
    }
   ],
   "source": [
    "split_3ways = np.array_split(ex_vstack, 3)\n",
    "split_3ways"
   ]
  },
  {
   "cell_type": "code",
   "execution_count": 21,
   "id": "2d178677-2a6a-4495-8a64-f9c19c735108",
   "metadata": {},
   "outputs": [
    {
     "data": {
      "text/plain": [
       "[array([[ 1, 11],\n",
       "        [ 2, 12]]),\n",
       " array([[ 3, 13],\n",
       "        [ 1, 11]]),\n",
       " array([[ 2, 12]]),\n",
       " array([[ 3, 13]])]"
      ]
     },
     "execution_count": 21,
     "metadata": {},
     "output_type": "execute_result"
    }
   ],
   "source": [
    "split_4ways = np.array_split(ex_vstack, 4)\n",
    "split_4ways"
   ]
  },
  {
   "cell_type": "code",
   "execution_count": 22,
   "id": "4124d74b-40c4-4478-93c1-bf4629e2f4bb",
   "metadata": {},
   "outputs": [
    {
     "data": {
      "text/plain": [
       "[array([[1],\n",
       "        [2],\n",
       "        [3],\n",
       "        [1],\n",
       "        [2],\n",
       "        [3]]),\n",
       " array([[11],\n",
       "        [12],\n",
       "        [13],\n",
       "        [11],\n",
       "        [12],\n",
       "        [13]]),\n",
       " array([], shape=(6, 0), dtype=int64),\n",
       " array([], shape=(6, 0), dtype=int64)]"
      ]
     },
     "execution_count": 22,
     "metadata": {},
     "output_type": "execute_result"
    }
   ],
   "source": [
    "split_4_1 = np.array_split(ex_vstack, 4, axis = 1)\n",
    "split_4_1"
   ]
  },
  {
   "cell_type": "markdown",
   "id": "a8574dcc-2cad-4bf5-aea2-39f4ceadfa73",
   "metadata": {},
   "source": [
    "### 2.B.6 Using where() to search and alter arrays"
   ]
  },
  {
   "cell_type": "code",
   "execution_count": 24,
   "id": "08879f3f-2651-49e2-8039-b7d46389df84",
   "metadata": {},
   "outputs": [
    {
     "data": {
      "text/plain": [
       "(array([0, 2, 4]),)"
      ]
     },
     "execution_count": 24,
     "metadata": {},
     "output_type": "execute_result"
    }
   ],
   "source": [
    "values = np.array([4,9,4,8,0,6])\n",
    "cond1 = np.where(values < 5)\n",
    "cond1"
   ]
  },
  {
   "cell_type": "code",
   "execution_count": 25,
   "id": "5b2331d0-1b25-4e76-8d2f-79fe7ac430f6",
   "metadata": {},
   "outputs": [
    {
     "name": "stdout",
     "output_type": "stream",
     "text": [
      "[[0 2 4]]\n"
     ]
    }
   ],
   "source": [
    "print(np.array(cond1))"
   ]
  },
  {
   "cell_type": "code",
   "execution_count": 26,
   "id": "c2da1087-1270-4112-894e-cef43d3b613f",
   "metadata": {},
   "outputs": [
    {
     "name": "stdout",
     "output_type": "stream",
     "text": [
      "(array([0, 2, 4]),)\n"
     ]
    }
   ],
   "source": [
    "print(cond1)"
   ]
  },
  {
   "cell_type": "code",
   "execution_count": 27,
   "id": "c2bd01ac-bb78-42b2-bd81-1608b1f862a6",
   "metadata": {},
   "outputs": [
    {
     "name": "stdout",
     "output_type": "stream",
     "text": [
      "[4.  8.1 4.  7.2 0.  5.4]\n"
     ]
    }
   ],
   "source": [
    "cond2 = np.where(values < 5, values, values * .9)\n",
    "print(cond2)"
   ]
  },
  {
   "cell_type": "code",
   "execution_count": 28,
   "id": "d04c89e4-64a9-4fac-9238-00a3dbb7e107",
   "metadata": {},
   "outputs": [
    {
     "data": {
      "text/plain": [
       "array([4. , 8.1, 4. , 7.2, 0. , 5.4])"
      ]
     },
     "execution_count": 28,
     "metadata": {},
     "output_type": "execute_result"
    }
   ],
   "source": [
    "cond2"
   ]
  },
  {
   "cell_type": "code",
   "execution_count": 29,
   "id": "f45dc7d5-8edb-4f48-95ae-41583db68a18",
   "metadata": {},
   "outputs": [
    {
     "name": "stdout",
     "output_type": "stream",
     "text": [
      "['4' 'over 5' '4' 'over 5' '0' 'over 5']\n"
     ]
    }
   ],
   "source": [
    "cond3 = np.where(values < 5, values, 'over 5')\n",
    "print(cond3)"
   ]
  },
  {
   "cell_type": "code",
   "execution_count": 30,
   "id": "5a4fcdff-126e-4dbd-9095-45932686cc86",
   "metadata": {},
   "outputs": [
    {
     "data": {
      "text/plain": [
       "array([[ 1, 11],\n",
       "       [ 2, 12],\n",
       "       [ 3, 13],\n",
       "       [ 1, 11],\n",
       "       [ 2, 12],\n",
       "       [ 3, 13]])"
      ]
     },
     "execution_count": 30,
     "metadata": {},
     "output_type": "execute_result"
    }
   ],
   "source": [
    "ex_vstack"
   ]
  },
  {
   "cell_type": "code",
   "execution_count": 31,
   "id": "5f726aeb-3c89-4c0d-8fc0-90762b91754c",
   "metadata": {},
   "outputs": [
    {
     "data": {
      "text/plain": [
       "(array([0, 0, 2, 2, 3, 3, 5, 5]), array([0, 1, 0, 1, 0, 1, 0, 1]))"
      ]
     },
     "execution_count": 31,
     "metadata": {},
     "output_type": "execute_result"
    }
   ],
   "source": [
    "cond4 = np.where(ex_vstack % 2)\n",
    "cond4"
   ]
  },
  {
   "cell_type": "code",
   "execution_count": 33,
   "id": "3963be0f-1f84-4c96-a129-29ec3650ccaa",
   "metadata": {},
   "outputs": [
    {
     "name": "stdout",
     "output_type": "stream",
     "text": [
      "[['down' '11']\n",
      " ['down' '12']\n",
      " ['down' '13']\n",
      " ['down' '11']\n",
      " ['down' '12']\n",
      " ['down' '13']]\n"
     ]
    }
   ],
   "source": [
    "cond5 = np.where(ex_vstack > 10, ex_vstack, 'down')\n",
    "print(cond5)"
   ]
  },
  {
   "cell_type": "markdown",
   "id": "b789325b-e454-4396-89fd-ed2f5970ac5b",
   "metadata": {},
   "source": [
    "### 2.B.7 Sorting arrays"
   ]
  },
  {
   "cell_type": "code",
   "execution_count": 34,
   "id": "6ece281b-2550-4b8a-94e0-c37a922f600a",
   "metadata": {},
   "outputs": [
    {
     "data": {
      "text/plain": [
       "array([4, 9, 4, 8, 0, 6])"
      ]
     },
     "execution_count": 34,
     "metadata": {},
     "output_type": "execute_result"
    }
   ],
   "source": [
    "values"
   ]
  },
  {
   "cell_type": "code",
   "execution_count": 35,
   "id": "56f2be6a-0d96-43a4-8a95-61383fc964bc",
   "metadata": {},
   "outputs": [
    {
     "name": "stdout",
     "output_type": "stream",
     "text": [
      "[0 4 4 6 8 9]\n"
     ]
    }
   ],
   "source": [
    "print(np.sort(values))"
   ]
  },
  {
   "cell_type": "code",
   "execution_count": 36,
   "id": "d3c02eee-7865-4aed-83b9-230cf07591ba",
   "metadata": {},
   "outputs": [
    {
     "name": "stdout",
     "output_type": "stream",
     "text": [
      "[[ 1 11]\n",
      " [ 2 12]\n",
      " [ 3 13]\n",
      " [ 1 11]\n",
      " [ 2 12]\n",
      " [ 3 13]]\n"
     ]
    }
   ],
   "source": [
    "print(np.sort(ex_vstack))"
   ]
  },
  {
   "cell_type": "code",
   "execution_count": 37,
   "id": "7b6ed8e6-1dd6-4462-b6ce-fbb3217baa1f",
   "metadata": {},
   "outputs": [
    {
     "name": "stdout",
     "output_type": "stream",
     "text": [
      "[['11' 'down']\n",
      " ['12' 'down']\n",
      " ['13' 'down']\n",
      " ['11' 'down']\n",
      " ['12' 'down']\n",
      " ['13' 'down']]\n"
     ]
    }
   ],
   "source": [
    "print(np.sort(cond5))"
   ]
  },
  {
   "cell_type": "code",
   "execution_count": 38,
   "id": "a65a2bbd-fbb8-4f46-9507-bdc3ed5f538c",
   "metadata": {},
   "outputs": [
    {
     "data": {
      "text/plain": [
       "array([ 7,  5,  3, 11,  9,  7])"
      ]
     },
     "execution_count": 38,
     "metadata": {},
     "output_type": "execute_result"
    }
   ],
   "source": [
    "arr_a = np.array([7,5,3])\n",
    "arr_b = np.array([11,9,7])\n",
    "ab =np.hstack((arr_a, arr_b))\n",
    "ab"
   ]
  },
  {
   "cell_type": "code",
   "execution_count": 39,
   "id": "3c1c670a-b719-40fa-94b5-ad859ba251f5",
   "metadata": {},
   "outputs": [
    {
     "data": {
      "text/plain": [
       "array([[ 7,  5,  3],\n",
       "       [11,  9,  7]])"
      ]
     },
     "execution_count": 39,
     "metadata": {},
     "output_type": "execute_result"
    }
   ],
   "source": [
    "ab2 = np.vstack((arr_a, arr_b))\n",
    "ab2"
   ]
  },
  {
   "cell_type": "code",
   "execution_count": 40,
   "id": "7e12198d-e021-42b2-a00b-6b9b94190f67",
   "metadata": {},
   "outputs": [
    {
     "data": {
      "text/plain": [
       "array([[[ 7, 11],\n",
       "        [ 5,  9],\n",
       "        [ 3,  7]]])"
      ]
     },
     "execution_count": 40,
     "metadata": {},
     "output_type": "execute_result"
    }
   ],
   "source": [
    "ab3 = np.dstack((arr_a, arr_b))\n",
    "ab3"
   ]
  },
  {
   "cell_type": "code",
   "execution_count": 41,
   "id": "3960515f-5dc3-4bd5-a76f-984c15443c91",
   "metadata": {},
   "outputs": [
    {
     "name": "stdout",
     "output_type": "stream",
     "text": [
      "[ 3  5  7  7  9 11]\n"
     ]
    }
   ],
   "source": [
    "print(np.sort(ab))"
   ]
  },
  {
   "cell_type": "code",
   "execution_count": 42,
   "id": "70f15a78-5004-4d7e-8dce-54e9527d0013",
   "metadata": {},
   "outputs": [
    {
     "name": "stdout",
     "output_type": "stream",
     "text": [
      "[[ 3  5  7]\n",
      " [ 7  9 11]]\n"
     ]
    }
   ],
   "source": [
    "print(np.sort(ab2))"
   ]
  },
  {
   "cell_type": "code",
   "execution_count": 43,
   "id": "47559773-2374-43eb-9d54-2a1f8acc5fbb",
   "metadata": {},
   "outputs": [
    {
     "name": "stdout",
     "output_type": "stream",
     "text": [
      "[[[ 7 11]\n",
      "  [ 5  9]\n",
      "  [ 3  7]]]\n"
     ]
    }
   ],
   "source": [
    "print(np.sort(ab3))"
   ]
  },
  {
   "cell_type": "markdown",
   "id": "c1b30b87-7554-4482-a305-b8910e98bfd7",
   "metadata": {},
   "source": [
    "### 2.B.8 Filtering arrays"
   ]
  },
  {
   "cell_type": "code",
   "execution_count": 44,
   "id": "af53be95-85dd-41ba-9b03-bac8c9d2850a",
   "metadata": {},
   "outputs": [
    {
     "data": {
      "text/plain": [
       "array([14,  9,  4, 18,  0,  6])"
      ]
     },
     "execution_count": 44,
     "metadata": {},
     "output_type": "execute_result"
    }
   ],
   "source": [
    "z = np.array([14, 9, 4, 18, 0, 6])\n",
    "z"
   ]
  },
  {
   "cell_type": "code",
   "execution_count": 46,
   "id": "f1cc6a08-4f9c-4539-b5f5-2f3447813adf",
   "metadata": {},
   "outputs": [
    {
     "name": "stdout",
     "output_type": "stream",
     "text": [
      "[True, False, False, True, False, False]\n"
     ]
    }
   ],
   "source": [
    "#to create a boolean index using standard Python \n",
    "\n",
    "filter_z = []\n",
    "\n",
    "for i in z:\n",
    "    if i > 10:\n",
    "        filter_z.append(True)\n",
    "    else:\n",
    "        filter_z.append(False)\n",
    "\n",
    "print(filter_z)"
   ]
  },
  {
   "cell_type": "code",
   "execution_count": 47,
   "id": "9cdf97ef-63be-426d-9bd5-2d043534a9a0",
   "metadata": {},
   "outputs": [
    {
     "name": "stdout",
     "output_type": "stream",
     "text": [
      "[14 18]\n"
     ]
    }
   ],
   "source": [
    "#applying boolean index\n",
    "\n",
    "y = z[filter_z]\n",
    "print(y)"
   ]
  },
  {
   "cell_type": "code",
   "execution_count": 48,
   "id": "ce4c2d8a-8d56-4e70-9bbf-aa777b8f53c1",
   "metadata": {},
   "outputs": [
    {
     "data": {
      "text/plain": [
       "array([14,  9,  4, 18,  0,  6])"
      ]
     },
     "execution_count": 48,
     "metadata": {},
     "output_type": "execute_result"
    }
   ],
   "source": [
    "z"
   ]
  },
  {
   "cell_type": "code",
   "execution_count": 49,
   "id": "5055a563-695a-4255-8c01-4e76c64cfc05",
   "metadata": {},
   "outputs": [
    {
     "name": "stdout",
     "output_type": "stream",
     "text": [
      "[14 18]\n"
     ]
    }
   ],
   "source": [
    "x = z > 10\n",
    "z_over_10 = z[x]\n",
    "print(z_over_10)"
   ]
  },
  {
   "cell_type": "markdown",
   "id": "977d4f93-c10a-4989-a7d9-5ceef2aac80c",
   "metadata": {},
   "source": [
    "### 2.C Random in Numpy"
   ]
  },
  {
   "cell_type": "code",
   "execution_count": 55,
   "id": "942c757b-8811-416e-9e13-fd7248a18f18",
   "metadata": {},
   "outputs": [
    {
     "data": {
      "text/plain": [
       "array([[[ 92,  11],\n",
       "        [173,  32],\n",
       "        [ 13, 183],\n",
       "        [105, 192]],\n",
       "\n",
       "       [[172, 161],\n",
       "        [109,  47],\n",
       "        [ 46, 169],\n",
       "        [130, 197]],\n",
       "\n",
       "       [[155,  86],\n",
       "        [ 14, 112],\n",
       "        [ 56,  46],\n",
       "        [182, 116]]], dtype=int32)"
      ]
     },
     "execution_count": 55,
     "metadata": {},
     "output_type": "execute_result"
    }
   ],
   "source": [
    "#Array of random integers\n",
    "\n",
    "h = np.random.randint(1, 200, size =(3, 4, 2))\n",
    "h"
   ]
  },
  {
   "cell_type": "code",
   "execution_count": 54,
   "id": "f9c78857-f929-4451-b21f-ac1fc1670848",
   "metadata": {},
   "outputs": [
    {
     "data": {
      "text/plain": [
       "array([[[0.80497789, 0.21411584],\n",
       "        [0.48353529, 0.61664652],\n",
       "        [0.42449435, 0.11567707],\n",
       "        [0.83457088, 0.63856735]],\n",
       "\n",
       "       [[0.326627  , 0.67296534],\n",
       "        [0.09651153, 0.22620302],\n",
       "        [0.18887271, 0.30905383],\n",
       "        [0.04303728, 0.18467366]],\n",
       "\n",
       "       [[0.58863666, 0.43323784],\n",
       "        [0.54141197, 0.68299702],\n",
       "        [0.92859312, 0.64189598],\n",
       "        [0.82364986, 0.17271139]]])"
      ]
     },
     "execution_count": 54,
     "metadata": {},
     "output_type": "execute_result"
    }
   ],
   "source": [
    "# Array of random floats (btwn 0 and 1)\n",
    "\n",
    "j = np.random.rand(3, 4, 2)\n",
    "j"
   ]
  },
  {
   "cell_type": "code",
   "execution_count": 56,
   "id": "36381796-ad3b-4e43-85f1-26399a4a7ff4",
   "metadata": {},
   "outputs": [
    {
     "data": {
      "text/plain": [
       "array([14,  9,  4, 18,  0,  6])"
      ]
     },
     "execution_count": 56,
     "metadata": {},
     "output_type": "execute_result"
    }
   ],
   "source": [
    "z "
   ]
  },
  {
   "cell_type": "code",
   "execution_count": 57,
   "id": "56544a39-ee69-4e90-aff6-5e09d06bc603",
   "metadata": {},
   "outputs": [
    {
     "data": {
      "text/plain": [
       "array([[[ 92,  11],\n",
       "        [173,  32],\n",
       "        [ 13, 183],\n",
       "        [105, 192]],\n",
       "\n",
       "       [[172, 161],\n",
       "        [109,  47],\n",
       "        [ 46, 169],\n",
       "        [130, 197]],\n",
       "\n",
       "       [[155,  86],\n",
       "        [ 14, 112],\n",
       "        [ 56,  46],\n",
       "        [182, 116]]], dtype=int32)"
      ]
     },
     "execution_count": 57,
     "metadata": {},
     "output_type": "execute_result"
    }
   ],
   "source": [
    "h"
   ]
  },
  {
   "cell_type": "code",
   "execution_count": 66,
   "id": "5ffb825c-2c4c-437c-b546-965d157589d1",
   "metadata": {},
   "outputs": [
    {
     "data": {
      "text/plain": [
       "array([[ 9, 14],\n",
       "       [14, 14],\n",
       "       [ 9, 18]])"
      ]
     },
     "execution_count": 66,
     "metadata": {},
     "output_type": "execute_result"
    }
   ],
   "source": [
    "choice_z = np.random.choice(z, size = (3,2))\n",
    "choice_z"
   ]
  },
  {
   "cell_type": "code",
   "execution_count": 100,
   "id": "5fdad2d8-24cb-4e3f-8d7e-ac70a077ce31",
   "metadata": {},
   "outputs": [
    {
     "data": {
      "text/plain": [
       "array([11])"
      ]
     },
     "execution_count": 100,
     "metadata": {},
     "output_type": "execute_result"
    }
   ],
   "source": [
    "choice_k = np.random.choice([3,5,7,9,11,13], size = (1))\n",
    "choice_k"
   ]
  },
  {
   "cell_type": "code",
   "execution_count": 109,
   "id": "9ba0c38c-91bb-4f5e-a443-497c8e16c52c",
   "metadata": {},
   "outputs": [
    {
     "data": {
      "text/plain": [
       "array([[13, 11],\n",
       "       [13, 11],\n",
       "       [ 3, 11]])"
      ]
     },
     "execution_count": 109,
     "metadata": {},
     "output_type": "execute_result"
    }
   ],
   "source": [
    "# Random distribution using probabilitiy density\n",
    "\n",
    "choice_m = np.random.choice([3, 5, 7, 9, 11, 13], p = [.1, .1, .1, .1, .2, .4], size = (3, 2))\n",
    "choice_m"
   ]
  },
  {
   "cell_type": "markdown",
   "id": "11cedef1-59ae-48dc-8afe-47f7e2e9cc47",
   "metadata": {},
   "source": [
    "### 2.C.5 Normal Distribution"
   ]
  },
  {
   "cell_type": "code",
   "execution_count": 112,
   "id": "234b474a-dd36-459f-b247-7af6bb9e8028",
   "metadata": {},
   "outputs": [
    {
     "data": {
      "text/plain": [
       "array([[[ 5.99411672,  5.83217655,  5.09669452],\n",
       "        [ 4.41978771,  8.69836334,  7.34769863]],\n",
       "\n",
       "       [[ 6.3925176 ,  6.50432321,  5.84654942],\n",
       "        [ 1.63922746,  3.8339594 ,  1.7484058 ]],\n",
       "\n",
       "       [[ 3.42774036,  3.15979339,  3.09148597],\n",
       "        [ 4.93942301,  5.93380519,  3.79034957]],\n",
       "\n",
       "       [[-0.29108677,  5.77002071,  3.93201789],\n",
       "        [ 5.77057883,  4.38826726,  4.88309737]],\n",
       "\n",
       "       [[11.42605082,  4.56900283,  6.09641295],\n",
       "        [ 6.01807157,  4.54160846,  0.88992232]],\n",
       "\n",
       "       [[ 6.28289777,  5.58033721,  4.14395627],\n",
       "        [ 5.05823329,  3.39133954,  7.20505512]],\n",
       "\n",
       "       [[ 5.35637204,  5.73588994,  3.94379355],\n",
       "        [ 7.76095841,  1.34775642,  3.77257917]],\n",
       "\n",
       "       [[ 5.45473762,  6.40917285,  3.96201224],\n",
       "        [ 7.36674912,  6.9131929 ,  4.59483994]],\n",
       "\n",
       "       [[ 6.70480365,  1.85715774,  6.0680418 ],\n",
       "        [ 7.97247792,  1.85856571,  5.76670886]],\n",
       "\n",
       "       [[ 4.21702629,  8.61989515,  2.5255029 ],\n",
       "        [ 6.88532689,  4.91912949,  1.55345486]],\n",
       "\n",
       "       [[ 2.58264684,  8.95740511,  5.39371172],\n",
       "        [ 6.38079446,  5.04205304,  5.38304371]],\n",
       "\n",
       "       [[ 4.67260687,  8.38329207,  7.17229716],\n",
       "        [ 2.54782023,  6.68293968,  6.11764318]],\n",
       "\n",
       "       [[ 9.14354545,  6.7880127 ,  4.15173131],\n",
       "        [ 2.82067345,  2.66349901,  2.72260474]],\n",
       "\n",
       "       [[ 2.17172746,  6.41316561,  3.68716655],\n",
       "        [ 6.39798739,  6.02313511,  5.96236211]],\n",
       "\n",
       "       [[ 2.78248169,  3.81405772,  1.52795033],\n",
       "        [ 4.31659026,  6.79314968,  7.1903294 ]],\n",
       "\n",
       "       [[ 4.80912229,  4.30203516,  3.79956626],\n",
       "        [ 4.1791321 ,  2.46131485,  4.16023905]],\n",
       "\n",
       "       [[ 5.62050032,  6.76861869,  6.15801976],\n",
       "        [ 8.0710608 ,  3.6058962 ,  5.59617547]],\n",
       "\n",
       "       [[ 8.42921508,  3.07108518,  3.17934671],\n",
       "        [ 7.00513537,  9.93179182, 10.20956425]],\n",
       "\n",
       "       [[ 4.55495448,  8.05245448,  4.01618301],\n",
       "        [ 4.09518742,  3.74519119,  5.64827521]],\n",
       "\n",
       "       [[ 6.27524825,  2.68421138,  1.92679748],\n",
       "        [ 6.37595024,  5.98592167,  6.08988504]],\n",
       "\n",
       "       [[ 3.01387545,  8.33864787,  4.75841808],\n",
       "        [ 7.34412703,  6.59544101,  8.5904393 ]],\n",
       "\n",
       "       [[ 8.14478687,  6.64696509,  6.36299696],\n",
       "        [ 5.83178748,  6.71332265,  4.10980932]],\n",
       "\n",
       "       [[ 2.69484931,  5.0215899 ,  4.45116152],\n",
       "        [ 4.24295753,  7.52314554,  6.43347455]],\n",
       "\n",
       "       [[ 6.49765883,  7.46602639,  4.27848888],\n",
       "        [ 7.70384453,  1.64942471,  3.82202517]],\n",
       "\n",
       "       [[ 6.22851864,  4.5769503 ,  8.14618486],\n",
       "        [ 5.82736797,  5.98522626,  3.87183365]],\n",
       "\n",
       "       [[ 7.36072645,  2.87570481,  8.15554552],\n",
       "        [ 7.91974195,  5.60618607,  4.75678329]],\n",
       "\n",
       "       [[ 6.98364054,  4.43091392,  6.29270319],\n",
       "        [ 4.1380306 ,  2.86407651,  4.65527039]],\n",
       "\n",
       "       [[ 4.28777745,  5.84728262,  4.32741839],\n",
       "        [ 6.9074424 ,  9.7477267 ,  8.11850854]],\n",
       "\n",
       "       [[ 6.42633407,  6.13440161,  5.35959212],\n",
       "        [ 7.33141937,  2.97393406,  5.64394751]],\n",
       "\n",
       "       [[ 3.06815944,  6.95942697,  1.04140318],\n",
       "        [ 7.27064505,  2.70618999,  3.2520206 ]]])"
      ]
     },
     "execution_count": 112,
     "metadata": {},
     "output_type": "execute_result"
    }
   ],
   "source": [
    "x_normal = np.random.normal(loc=5, scale=2, size=(30,2,3))\n",
    "x_normal"
   ]
  },
  {
   "cell_type": "code",
   "execution_count": null,
   "id": "2ecb7f70-348f-436a-bcaa-a10fa921419e",
   "metadata": {},
   "outputs": [],
   "source": []
  },
  {
   "cell_type": "code",
   "execution_count": null,
   "id": "971f4aa7-827b-43a0-8494-3119d45ba633",
   "metadata": {},
   "outputs": [],
   "source": []
  },
  {
   "cell_type": "code",
   "execution_count": null,
   "id": "4f6f9d9e-5dc7-4cac-8eac-51565fe9a974",
   "metadata": {},
   "outputs": [],
   "source": []
  },
  {
   "cell_type": "code",
   "execution_count": null,
   "id": "93f8cc9d-cb37-45b9-87dc-ab7e561ca075",
   "metadata": {},
   "outputs": [],
   "source": []
  }
 ],
 "metadata": {
  "kernelspec": {
   "display_name": "Python 3 (ipykernel)",
   "language": "python",
   "name": "python3"
  },
  "language_info": {
   "codemirror_mode": {
    "name": "ipython",
    "version": 3
   },
   "file_extension": ".py",
   "mimetype": "text/x-python",
   "name": "python",
   "nbconvert_exporter": "python",
   "pygments_lexer": "ipython3",
   "version": "3.12.3"
  }
 },
 "nbformat": 4,
 "nbformat_minor": 5
}
