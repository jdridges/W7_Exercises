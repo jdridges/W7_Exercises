{
 "cells": [
  {
   "cell_type": "code",
   "execution_count": 1,
   "id": "5e9eb65b-1007-4977-bf8c-792b328ef2dc",
   "metadata": {},
   "outputs": [],
   "source": [
    "import numpy as np"
   ]
  },
  {
   "cell_type": "markdown",
   "id": "a6d3da8f-c1e0-4026-89a4-a0896fb61953",
   "metadata": {},
   "source": [
    "### Generating Random Numbers "
   ]
  },
  {
   "cell_type": "code",
   "execution_count": 3,
   "id": "ba4b34a3-b2b6-40a7-9e08-ecfdfd05c286",
   "metadata": {},
   "outputs": [
    {
     "name": "stdout",
     "output_type": "stream",
     "text": [
      "[18 15]\n"
     ]
    }
   ],
   "source": [
    "r_1 = np.random.randint(1, 20, size = (2))\n",
    "print(r_1)"
   ]
  },
  {
   "cell_type": "code",
   "execution_count": 4,
   "id": "dca8cc2e-b048-4d54-b8d8-d6b577da4013",
   "metadata": {},
   "outputs": [
    {
     "name": "stdout",
     "output_type": "stream",
     "text": [
      "[[11  5]]\n"
     ]
    }
   ],
   "source": [
    "r_2 = np.random.randint(1, 20, size = (1, 2))\n",
    "print(r_2)"
   ]
  },
  {
   "cell_type": "code",
   "execution_count": 8,
   "id": "d2e4b467-672b-40f4-bf4f-aefb5ad5ec2f",
   "metadata": {},
   "outputs": [
    {
     "name": "stdout",
     "output_type": "stream",
     "text": [
      "[[0.51810314]\n",
      " [0.91262742]]\n"
     ]
    }
   ],
   "source": [
    "r_3 = np.random.rand(2, 1)\n",
    "print(r_3)"
   ]
  },
  {
   "cell_type": "code",
   "execution_count": 9,
   "id": "cb07a473-0cf8-43c8-bb8c-07901f484ee7",
   "metadata": {},
   "outputs": [
    {
     "name": "stdout",
     "output_type": "stream",
     "text": [
      "[[55 58 64 74 88]\n",
      " [67 47 76 74 93]\n",
      " [68 33 52 33 64]\n",
      " [78 30 67 79 97]]\n"
     ]
    }
   ],
   "source": [
    "r_4 = np.random.randint(20, 100, size = (4, 5))\n",
    "print(r_4)"
   ]
  },
  {
   "cell_type": "code",
   "execution_count": 10,
   "id": "f6e67fc1-8fb4-4a05-b52f-e36a95c66e84",
   "metadata": {},
   "outputs": [
    {
     "name": "stdout",
     "output_type": "stream",
     "text": [
      "[[0.77861394 0.03115716 0.16723853 0.57509645 0.63711269]\n",
      " [0.48659115 0.94279867 0.48059563 0.5285238  0.33320279]\n",
      " [0.50400252 0.33287581 0.55209539 0.96303882 0.30049888]\n",
      " [0.77011238 0.39865524 0.16223267 0.63864893 0.20602816]]\n"
     ]
    }
   ],
   "source": [
    "r_5 = np.random.rand(4, 5)\n",
    "print(r_5)"
   ]
  },
  {
   "cell_type": "markdown",
   "id": "bfc61760-3bda-4595-b428-50ea880ca74d",
   "metadata": {},
   "source": [
    "### Generating Random Choices from an Array"
   ]
  },
  {
   "cell_type": "code",
   "execution_count": 11,
   "id": "7aa793a5-0e6d-4f07-9bb0-43acb099ad24",
   "metadata": {},
   "outputs": [
    {
     "data": {
      "text/plain": [
       "array(['Jen', 'Hassan', 'Craig', 'Rodolfo', 'Armando', 'Martin',\n",
       "       'Vanessa', 'Vieri', 'Anthony', 'Aron', 'Kailyn', 'Caitlan'],\n",
       "      dtype='<U7')"
      ]
     },
     "execution_count": 11,
     "metadata": {},
     "output_type": "execute_result"
    }
   ],
   "source": [
    "students =np.array(['Jen', 'Hassan', 'Craig', 'Rodolfo', 'Armando', 'Martin', 'Vanessa', 'Vieri', 'Anthony', 'Aron', 'Kailyn', 'Caitlan'])\n",
    "students"
   ]
  },
  {
   "cell_type": "code",
   "execution_count": 12,
   "id": "b13390ae-5713-4607-bfec-8ef4df5058b6",
   "metadata": {},
   "outputs": [
    {
     "name": "stdout",
     "output_type": "stream",
     "text": [
      "Craig\n"
     ]
    }
   ],
   "source": [
    "call_on = np.random.choice(students)\n",
    "print(call_on)"
   ]
  },
  {
   "cell_type": "code",
   "execution_count": 13,
   "id": "f4651c1e-2a82-43ff-8a1c-d7c989911600",
   "metadata": {},
   "outputs": [
    {
     "name": "stdout",
     "output_type": "stream",
     "text": [
      "[['Anthony' 'Craig' 'Caitlan' 'Craig']\n",
      " ['Jen' 'Jen' 'Martin' 'Jen']\n",
      " ['Craig' 'Armando' 'Rodolfo' 'Anthony']]\n"
     ]
    }
   ],
   "source": [
    "breakout_groups = np.random.choice((students), size = (3,4))\n",
    "print(breakout_groups)\n",
    "\n",
    "#This would not be an effective way to assign breakout groups because it produces duplicate values (Jen is in group 2 three times)"
   ]
  },
  {
   "cell_type": "code",
   "execution_count": 15,
   "id": "537ee17e-aae0-467f-9cd9-b1e06af9a206",
   "metadata": {},
   "outputs": [
    {
     "name": "stdout",
     "output_type": "stream",
     "text": [
      "['Kailyn' 'Kailyn' 'Vieri' 'Jen' 'Caitlan']\n"
     ]
    }
   ],
   "source": [
    "call_on_weighted = np.random.choice((students), p= [.3, 0.0, 0.07, 0.07, 0.07, .07, .07, .07, .07, .07, .07, .07], size =(5))\n",
    "\n",
    "#because it was a requirement of assigning a student 0% and another 30%, that left %70 for the remaining 10 students. I equally distributed the remaining equally (7% each). \n",
    "print(call_on_weighted)"
   ]
  },
  {
   "cell_type": "markdown",
   "id": "a1c14140-5828-40df-8aa9-9f106cf218f0",
   "metadata": {},
   "source": [
    "### Generating a Normal Distribution"
   ]
  },
  {
   "cell_type": "code",
   "execution_count": 16,
   "id": "f7b37f86-ed3a-447e-b8fd-5e8185c5dcb2",
   "metadata": {},
   "outputs": [
    {
     "name": "stdout",
     "output_type": "stream",
     "text": [
      "[[ 8.57500106 13.8379865  14.39080018  7.49941633  1.61673326]\n",
      " [ 6.22774001 10.13196017 14.02490652  7.6180012  11.25942419]\n",
      " [12.0848129  12.37897412  7.3639908  13.49738224 10.60278085]\n",
      " [-0.60294685  8.04254982 13.29962469 23.26163002 10.77568203]]\n"
     ]
    }
   ],
   "source": [
    "bell_curve = np.random.normal(loc = 10, scale = 5, size = (4,5))\n",
    "print(bell_curve)"
   ]
  },
  {
   "cell_type": "code",
   "execution_count": null,
   "id": "ea655e13-8086-4aa5-bb2f-f2d4bf87e791",
   "metadata": {},
   "outputs": [],
   "source": []
  },
  {
   "cell_type": "code",
   "execution_count": null,
   "id": "210c2a3d-6815-41ca-a02c-8142c5e7fd1f",
   "metadata": {},
   "outputs": [],
   "source": []
  },
  {
   "cell_type": "code",
   "execution_count": null,
   "id": "380032d4-5871-49db-826f-783e9f09bb18",
   "metadata": {},
   "outputs": [],
   "source": []
  }
 ],
 "metadata": {
  "kernelspec": {
   "display_name": "Python 3 (ipykernel)",
   "language": "python",
   "name": "python3"
  },
  "language_info": {
   "codemirror_mode": {
    "name": "ipython",
    "version": 3
   },
   "file_extension": ".py",
   "mimetype": "text/x-python",
   "name": "python",
   "nbconvert_exporter": "python",
   "pygments_lexer": "ipython3",
   "version": "3.12.3"
  }
 },
 "nbformat": 4,
 "nbformat_minor": 5
}
