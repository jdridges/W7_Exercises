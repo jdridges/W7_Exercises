{
 "cells": [
  {
   "cell_type": "markdown",
   "id": "8f01efd7-4134-457b-85bf-cd56cebcbda2",
   "metadata": {},
   "source": [
    "### Pandas"
   ]
  },
  {
   "cell_type": "code",
   "execution_count": 1,
   "id": "cd580847-0f9a-4a10-a40c-b03d1eed7cce",
   "metadata": {},
   "outputs": [],
   "source": [
    "import pandas as pd\n",
    "import numpy as np"
   ]
  },
  {
   "cell_type": "code",
   "execution_count": 2,
   "id": "dac576e0-142c-4194-92ea-a3e5e7571a2c",
   "metadata": {},
   "outputs": [
    {
     "data": {
      "text/plain": [
       "[3, 217, 182]"
      ]
     },
     "execution_count": 2,
     "metadata": {},
     "output_type": "execute_result"
    }
   ],
   "source": [
    "a_list = ([3, 217, 182])\n",
    "a_list"
   ]
  },
  {
   "cell_type": "code",
   "execution_count": 3,
   "id": "21e4d45a-806b-4472-9a2a-8f7755e7c8b2",
   "metadata": {},
   "outputs": [
    {
     "data": {
      "text/plain": [
       "0      3\n",
       "1    217\n",
       "2    182\n",
       "dtype: int64"
      ]
     },
     "execution_count": 3,
     "metadata": {},
     "output_type": "execute_result"
    }
   ],
   "source": [
    "a = pd.Series(a_list)\n",
    "a"
   ]
  },
  {
   "cell_type": "code",
   "execution_count": 4,
   "id": "0daa694d-a426-4b3d-ae96-acaed3a64ffb",
   "metadata": {},
   "outputs": [],
   "source": [
    "a_index = ['a', 'b', 'c']"
   ]
  },
  {
   "cell_type": "code",
   "execution_count": 6,
   "id": "7e99a414-dce5-4835-92e1-9712d3d12297",
   "metadata": {},
   "outputs": [
    {
     "data": {
      "text/plain": [
       "a      3\n",
       "b    217\n",
       "c    182\n",
       "dtype: int64"
      ]
     },
     "execution_count": 6,
     "metadata": {},
     "output_type": "execute_result"
    }
   ],
   "source": [
    "a_w_index = pd.Series(a_list, index = a_index)\n",
    "a_w_index"
   ]
  },
  {
   "cell_type": "code",
   "execution_count": 7,
   "id": "b33fffeb-c03c-4e03-acbd-408ee732f3f5",
   "metadata": {},
   "outputs": [
    {
     "data": {
      "text/plain": [
       "{'cat': 'Norma', 'dog': 'Fozzie', 'fish': 'Al'}"
      ]
     },
     "execution_count": 7,
     "metadata": {},
     "output_type": "execute_result"
    }
   ],
   "source": [
    "b_dict = {'cat': 'Norma', 'dog': 'Fozzie', 'fish' : 'Al'}\n",
    "b_dict"
   ]
  },
  {
   "cell_type": "code",
   "execution_count": 9,
   "id": "e5636277-ab37-475a-b5ab-08f2f5a25eab",
   "metadata": {},
   "outputs": [
    {
     "data": {
      "text/plain": [
       "cat      Norma\n",
       "dog     Fozzie\n",
       "fish        Al\n",
       "dtype: object"
      ]
     },
     "execution_count": 9,
     "metadata": {},
     "output_type": "execute_result"
    }
   ],
   "source": [
    "b =pd.Series(b_dict)\n",
    "b"
   ]
  },
  {
   "cell_type": "code",
   "execution_count": null,
   "id": "b024d0fb-b4ea-4b33-af23-3793601f0715",
   "metadata": {},
   "outputs": [],
   "source": []
  },
  {
   "cell_type": "code",
   "execution_count": null,
   "id": "4fe75bd9-6707-418b-b222-df3c8a9345a4",
   "metadata": {},
   "outputs": [],
   "source": []
  }
 ],
 "metadata": {
  "kernelspec": {
   "display_name": "Python 3 (ipykernel)",
   "language": "python",
   "name": "python3"
  },
  "language_info": {
   "codemirror_mode": {
    "name": "ipython",
    "version": 3
   },
   "file_extension": ".py",
   "mimetype": "text/x-python",
   "name": "python",
   "nbconvert_exporter": "python",
   "pygments_lexer": "ipython3",
   "version": "3.12.3"
  }
 },
 "nbformat": 4,
 "nbformat_minor": 5
}
