{
 "cells": [
  {
   "cell_type": "code",
   "execution_count": 1,
   "id": "ed2b99b8-5a13-4499-8fd5-f7bb8af8ec0b",
   "metadata": {},
   "outputs": [],
   "source": [
    "import numpy as np"
   ]
  },
  {
   "cell_type": "markdown",
   "id": "47990dec-6cd7-4eff-a874-4634acdc74d8",
   "metadata": {},
   "source": [
    "### Looping Through Arrays"
   ]
  },
  {
   "cell_type": "code",
   "execution_count": 2,
   "id": "97b4159d-ef5e-402e-bf86-6c5c7cfe43cb",
   "metadata": {},
   "outputs": [
    {
     "name": "stdout",
     "output_type": "stream",
     "text": [
      "[[11 12 13]\n",
      " [13 15 16]]\n"
     ]
    }
   ],
   "source": [
    "arrA = np.array([[11,12,13], [13,15,16]])\n",
    "print(arrA)"
   ]
  },
  {
   "cell_type": "code",
   "execution_count": 3,
   "id": "67119a65-a278-4f87-b237-44074485601d",
   "metadata": {},
   "outputs": [
    {
     "name": "stdout",
     "output_type": "stream",
     "text": [
      "[22 24 26]\n",
      "[26 30 32]\n"
     ]
    }
   ],
   "source": [
    "for x in arrA:\n",
    "    print(x*2)"
   ]
  },
  {
   "cell_type": "code",
   "execution_count": 4,
   "id": "c35150a7-aadb-425f-959d-61e103c5c30a",
   "metadata": {},
   "outputs": [
    {
     "name": "stdout",
     "output_type": "stream",
     "text": [
      "22\n",
      "24\n",
      "26\n",
      "26\n",
      "30\n",
      "32\n"
     ]
    }
   ],
   "source": [
    "for x in arrA:\n",
    "    for y in (x):\n",
    "        print(y *2) "
   ]
  },
  {
   "cell_type": "markdown",
   "id": "a8f4d0de-289b-47fe-9588-d0db96b3aeba",
   "metadata": {},
   "source": [
    "Because it is a 2 demensional array, the first loop breaks the array into two, 1 demensional sub arrays. From there, if we enter a nested loop, we are able to return the individual values with the array. "
   ]
  },
  {
   "cell_type": "code",
   "execution_count": 6,
   "id": "78308f68-5af7-4268-a933-72f5b20522fb",
   "metadata": {},
   "outputs": [
    {
     "name": "stdout",
     "output_type": "stream",
     "text": [
      "22\n",
      "24\n",
      "26\n",
      "26\n",
      "30\n",
      "32\n"
     ]
    }
   ],
   "source": [
    "\n",
    "for x in arrA:\n",
    "    for y in x:\n",
    "        loop_result = (y*2)\n",
    "        print(loop_result)"
   ]
  },
  {
   "cell_type": "markdown",
   "id": "bb8f2e51-f902-43c0-9653-98d5eaab1004",
   "metadata": {},
   "source": [
    "### Joining and Stacking Arrays"
   ]
  },
  {
   "cell_type": "code",
   "execution_count": 7,
   "id": "4d1f889b-1989-4d2a-af87-fdc018bbe2e2",
   "metadata": {},
   "outputs": [
    {
     "name": "stdout",
     "output_type": "stream",
     "text": [
      "[[11 12 13]\n",
      " [13 15 16]\n",
      " [11 12 13]\n",
      " [13 15 16]]\n"
     ]
    }
   ],
   "source": [
    "joined_array_1 = np.concatenate((arrA, arrA), axis = 0)\n",
    "print(joined_array_1)"
   ]
  },
  {
   "cell_type": "code",
   "execution_count": 9,
   "id": "a17591e8-02da-453e-9891-6d181d376c4f",
   "metadata": {},
   "outputs": [
    {
     "name": "stdout",
     "output_type": "stream",
     "text": [
      "[[11 12 13 11 12 13]\n",
      " [13 15 16 13 15 16]]\n"
     ]
    }
   ],
   "source": [
    "joined_array_2 = np.concatenate((arrA, arrA), axis = 1)\n",
    "print(joined_array_2)"
   ]
  },
  {
   "cell_type": "code",
   "execution_count": 15,
   "id": "2c36afe8-7843-4ce8-a9d7-bc2906b532db",
   "metadata": {},
   "outputs": [
    {
     "name": "stdout",
     "output_type": "stream",
     "text": [
      "[[[11 12 13]\n",
      "  [13 15 16]\n",
      "  [11 12 13]\n",
      "  [13 15 16]]\n",
      "\n",
      " [[11 12 13]\n",
      "  [13 15 16]\n",
      "  [11 12 13]\n",
      "  [13 15 16]]]\n"
     ]
    }
   ],
   "source": [
    "stacked_array_1 = np.stack((joined_array_1, joined_array_1))\n",
    "print(stacked_array_1)"
   ]
  },
  {
   "cell_type": "code",
   "execution_count": 16,
   "id": "38482ce4-81f2-4158-a7d2-da98ff2c542d",
   "metadata": {},
   "outputs": [
    {
     "ename": "ValueError",
     "evalue": "all input arrays must have the same shape",
     "output_type": "error",
     "traceback": [
      "\u001b[1;31m---------------------------------------------------------------------------\u001b[0m",
      "\u001b[1;31mValueError\u001b[0m                                Traceback (most recent call last)",
      "Cell \u001b[1;32mIn[16], line 1\u001b[0m\n\u001b[1;32m----> 1\u001b[0m stacked_array_2 \u001b[38;5;241m=\u001b[39m \u001b[43mnp\u001b[49m\u001b[38;5;241;43m.\u001b[39;49m\u001b[43mstack\u001b[49m\u001b[43m(\u001b[49m\u001b[43m(\u001b[49m\u001b[43mjoined_array_1\u001b[49m\u001b[43m,\u001b[49m\u001b[43m \u001b[49m\u001b[43mjoined_array_2\u001b[49m\u001b[43m)\u001b[49m\u001b[43m)\u001b[49m\n",
      "File \u001b[1;32m~\\AppData\\Local\\Programs\\Python\\Python312\\Lib\\site-packages\\numpy\\_core\\shape_base.py:457\u001b[0m, in \u001b[0;36mstack\u001b[1;34m(arrays, axis, out, dtype, casting)\u001b[0m\n\u001b[0;32m    455\u001b[0m shapes \u001b[38;5;241m=\u001b[39m {arr\u001b[38;5;241m.\u001b[39mshape \u001b[38;5;28;01mfor\u001b[39;00m arr \u001b[38;5;129;01min\u001b[39;00m arrays}\n\u001b[0;32m    456\u001b[0m \u001b[38;5;28;01mif\u001b[39;00m \u001b[38;5;28mlen\u001b[39m(shapes) \u001b[38;5;241m!=\u001b[39m \u001b[38;5;241m1\u001b[39m:\n\u001b[1;32m--> 457\u001b[0m     \u001b[38;5;28;01mraise\u001b[39;00m \u001b[38;5;167;01mValueError\u001b[39;00m(\u001b[38;5;124m'\u001b[39m\u001b[38;5;124mall input arrays must have the same shape\u001b[39m\u001b[38;5;124m'\u001b[39m)\n\u001b[0;32m    459\u001b[0m result_ndim \u001b[38;5;241m=\u001b[39m arrays[\u001b[38;5;241m0\u001b[39m]\u001b[38;5;241m.\u001b[39mndim \u001b[38;5;241m+\u001b[39m \u001b[38;5;241m1\u001b[39m\n\u001b[0;32m    460\u001b[0m axis \u001b[38;5;241m=\u001b[39m normalize_axis_index(axis, result_ndim)\n",
      "\u001b[1;31mValueError\u001b[0m: all input arrays must have the same shape"
     ]
    }
   ],
   "source": [
    "stacked_array_2 = np.stack((joined_array_1, joined_array_2))\n",
    "\n",
    "#value error: all input arrays must have the same shape"
   ]
  },
  {
   "cell_type": "code",
   "execution_count": 17,
   "id": "b4c8087d-4664-4b4c-aa78-420165ca6de8",
   "metadata": {},
   "outputs": [
    {
     "data": {
      "text/plain": [
       "array([[11, 12, 13],\n",
       "       [13, 15, 16],\n",
       "       [11, 12, 13],\n",
       "       [13, 15, 16],\n",
       "       [11, 12, 13],\n",
       "       [13, 15, 16]])"
      ]
     },
     "execution_count": 17,
     "metadata": {},
     "output_type": "execute_result"
    }
   ],
   "source": [
    "another_joined_array = np.concatenate((joined_array_1, arrA))\n",
    "another_joined_array"
   ]
  },
  {
   "cell_type": "code",
   "execution_count": 18,
   "id": "8573efc7-093e-425b-b25d-dc86abccfda9",
   "metadata": {},
   "outputs": [
    {
     "ename": "ValueError",
     "evalue": "all the input array dimensions except for the concatenation axis must match exactly, but along dimension 0, the array at index 0 has size 4 and the array at index 1 has size 2",
     "output_type": "error",
     "traceback": [
      "\u001b[1;31m---------------------------------------------------------------------------\u001b[0m",
      "\u001b[1;31mValueError\u001b[0m                                Traceback (most recent call last)",
      "Cell \u001b[1;32mIn[18], line 1\u001b[0m\n\u001b[1;32m----> 1\u001b[0m another_2 \u001b[38;5;241m=\u001b[39m \u001b[43mnp\u001b[49m\u001b[38;5;241;43m.\u001b[39;49m\u001b[43mconcatenate\u001b[49m\u001b[43m(\u001b[49m\u001b[43m(\u001b[49m\u001b[43mjoined_array_1\u001b[49m\u001b[43m,\u001b[49m\u001b[43m \u001b[49m\u001b[43marrA\u001b[49m\u001b[43m)\u001b[49m\u001b[43m,\u001b[49m\u001b[43m \u001b[49m\u001b[43maxis\u001b[49m\u001b[43m \u001b[49m\u001b[38;5;241;43m=\u001b[39;49m\u001b[43m \u001b[49m\u001b[38;5;241;43m1\u001b[39;49m\u001b[43m)\u001b[49m\n\u001b[0;32m      2\u001b[0m another_2\n",
      "\u001b[1;31mValueError\u001b[0m: all the input array dimensions except for the concatenation axis must match exactly, but along dimension 0, the array at index 0 has size 4 and the array at index 1 has size 2"
     ]
    }
   ],
   "source": [
    "another_2 = np.concatenate((joined_array_1, arrA), axis = 1)\n",
    "another_2\n",
    "\n",
    "#ValueError: It is saying that the dimensions except for the concat axis must match exactly and they do not. "
   ]
  },
  {
   "cell_type": "code",
   "execution_count": 19,
   "id": "1651202e-bb04-4125-b123-9d17a6de9ca8",
   "metadata": {},
   "outputs": [
    {
     "data": {
      "text/plain": [
       "array([[11, 12, 13, 11, 12, 13],\n",
       "       [13, 15, 16, 13, 15, 16]])"
      ]
     },
     "execution_count": 19,
     "metadata": {},
     "output_type": "execute_result"
    }
   ],
   "source": [
    "h_stack = np.hstack((arrA, arrA))\n",
    "h_stack\n",
    "\n",
    "#stacking along rows"
   ]
  },
  {
   "cell_type": "code",
   "execution_count": 20,
   "id": "87c51b45-dea6-4c9c-9308-62448c5cf572",
   "metadata": {},
   "outputs": [
    {
     "data": {
      "text/plain": [
       "array([[11, 12, 13],\n",
       "       [13, 15, 16],\n",
       "       [11, 12, 13],\n",
       "       [13, 15, 16]])"
      ]
     },
     "execution_count": 20,
     "metadata": {},
     "output_type": "execute_result"
    }
   ],
   "source": [
    "v_stack = np.vstack((arrA, arrA))\n",
    "v_stack\n",
    "\n",
    "#stacking along columns"
   ]
  },
  {
   "cell_type": "code",
   "execution_count": 21,
   "id": "7dd713c7-5ab0-44b0-b6e5-44eddbab76e8",
   "metadata": {},
   "outputs": [
    {
     "data": {
      "text/plain": [
       "array([[[11, 11],\n",
       "        [12, 12],\n",
       "        [13, 13]],\n",
       "\n",
       "       [[13, 13],\n",
       "        [15, 15],\n",
       "        [16, 16]]])"
      ]
     },
     "execution_count": 21,
     "metadata": {},
     "output_type": "execute_result"
    }
   ],
   "source": [
    "d_stack = np.dstack((arrA, arrA))\n",
    "d_stack\n",
    "\n",
    "#stacking along height/depth"
   ]
  },
  {
   "cell_type": "markdown",
   "id": "b22ed997-7750-4466-84fd-b12cf6ddbfbd",
   "metadata": {},
   "source": [
    "### Splitting Arrays"
   ]
  },
  {
   "cell_type": "code",
   "execution_count": 22,
   "id": "de4d271f-fc56-46e7-958b-2bf0aa706a7f",
   "metadata": {},
   "outputs": [
    {
     "name": "stdout",
     "output_type": "stream",
     "text": [
      "[array([[11, 12, 13],\n",
      "       [13, 15, 16]]), array([[11, 12, 13],\n",
      "       [13, 15, 16]])]\n"
     ]
    }
   ],
   "source": [
    "splitsky = np.array_split(joined_array_1, 2)\n",
    "print(splitsky)\n",
    "\n",
    "#splits into 2 arrays with 2 demensions each"
   ]
  },
  {
   "cell_type": "code",
   "execution_count": 23,
   "id": "c3a1818f-2e52-4398-b401-e51e1631fb86",
   "metadata": {},
   "outputs": [
    {
     "name": "stdout",
     "output_type": "stream",
     "text": [
      "[array([[11, 12, 13],\n",
      "       [13, 15, 16]]), array([[11, 12, 13]]), array([[13, 15, 16]])]\n"
     ]
    }
   ],
   "source": [
    "spliterino = np.array_split(joined_array_1, 3)\n",
    "print(spliterino)\n",
    "\n",
    "#splits into 3 arrays with 2 dimensions each"
   ]
  },
  {
   "cell_type": "markdown",
   "id": "358170bf-b7e3-4235-831e-937a6a24e0f2",
   "metadata": {},
   "source": [
    "### Searching and Replacing Array Values"
   ]
  },
  {
   "cell_type": "code",
   "execution_count": 24,
   "id": "2eeb9151-0934-492a-adc0-2d2e99b1307f",
   "metadata": {},
   "outputs": [
    {
     "data": {
      "text/plain": [
       "array([['odd', '12', 'odd'],\n",
       "       ['odd', 'odd', '16']], dtype='<U21')"
      ]
     },
     "execution_count": 24,
     "metadata": {},
     "output_type": "execute_result"
    }
   ],
   "source": [
    "result_1 = np.where(arrA % 2 == 0, arrA, 'odd')\n",
    "result_1"
   ]
  },
  {
   "cell_type": "markdown",
   "id": "30b6a63f-804f-4b46-b61d-81dbb3928a29",
   "metadata": {},
   "source": [
    "### Sorting and Filtering Arrays"
   ]
  },
  {
   "cell_type": "code",
   "execution_count": 25,
   "id": "4da2447e-9ae9-4f0d-8c76-c69f2d7a0990",
   "metadata": {},
   "outputs": [
    {
     "data": {
      "text/plain": [
       "array([[ 7,  6],\n",
       "       [13,  5],\n",
       "       [ 7,  3]])"
      ]
     },
     "execution_count": 25,
     "metadata": {},
     "output_type": "execute_result"
    }
   ],
   "source": [
    "arrB = np.array([[7, 6], [13, 5], [7,3]])\n",
    "arrB"
   ]
  },
  {
   "cell_type": "code",
   "execution_count": 26,
   "id": "b4fbf632-c9a7-44ef-a94f-a623fa77d51f",
   "metadata": {},
   "outputs": [
    {
     "name": "stdout",
     "output_type": "stream",
     "text": [
      "[[ 6  7]\n",
      " [ 5 13]\n",
      " [ 3  7]]\n"
     ]
    }
   ],
   "source": [
    "arrB_sorted = np.sort(arrB)\n",
    "print(arrB_sorted)"
   ]
  },
  {
   "cell_type": "code",
   "execution_count": 27,
   "id": "7a926323-0917-4873-9e56-b5fa5f804d8a",
   "metadata": {},
   "outputs": [
    {
     "name": "stdout",
     "output_type": "stream",
     "text": [
      "[[ 7  6]\n",
      " [13  5]\n",
      " [ 7  3]]\n"
     ]
    }
   ],
   "source": [
    "print(arrB)"
   ]
  },
  {
   "cell_type": "code",
   "execution_count": 28,
   "id": "be7fd226-2a49-40ec-b7d0-f6cc562f9a29",
   "metadata": {},
   "outputs": [
    {
     "name": "stdout",
     "output_type": "stream",
     "text": [
      "[6 5 3]\n"
     ]
    }
   ],
   "source": [
    "z = arrB < 7\n",
    "arrC = arrB[z]\n",
    "print(arrC)"
   ]
  },
  {
   "cell_type": "code",
   "execution_count": 29,
   "id": "ce5e3ef6-7af6-405a-936f-d80fc6e15ba3",
   "metadata": {},
   "outputs": [
    {
     "name": "stdout",
     "output_type": "stream",
     "text": [
      "[ 7 13  7]\n"
     ]
    }
   ],
   "source": [
    "y = arrB >= 7\n",
    "arrD = arrB[y]\n",
    "print(arrD)"
   ]
  },
  {
   "cell_type": "code",
   "execution_count": null,
   "id": "a57db164-8a0e-4d3d-b350-ebb5cb3f3cbb",
   "metadata": {},
   "outputs": [],
   "source": []
  },
  {
   "cell_type": "code",
   "execution_count": null,
   "id": "4fd1cb7c-2103-4bfb-8144-1c15a61bfd11",
   "metadata": {},
   "outputs": [],
   "source": []
  },
  {
   "cell_type": "code",
   "execution_count": null,
   "id": "5ecd662d-05f4-4aa5-87c6-bd6ab090bba4",
   "metadata": {},
   "outputs": [],
   "source": []
  },
  {
   "cell_type": "code",
   "execution_count": null,
   "id": "77aa9353-de10-44ed-8193-71f9d8145bc8",
   "metadata": {},
   "outputs": [],
   "source": []
  },
  {
   "cell_type": "code",
   "execution_count": null,
   "id": "36b43ddf-cefd-4535-bcd4-c42f1c2f6c2b",
   "metadata": {},
   "outputs": [],
   "source": []
  },
  {
   "cell_type": "code",
   "execution_count": null,
   "id": "a69c0fb2-a79d-45e8-b4c0-e8370b6e18e2",
   "metadata": {},
   "outputs": [],
   "source": []
  },
  {
   "cell_type": "code",
   "execution_count": null,
   "id": "6f371e82-de8f-43ea-95c6-c613ea47c2ec",
   "metadata": {},
   "outputs": [],
   "source": []
  }
 ],
 "metadata": {
  "kernelspec": {
   "display_name": "Python 3 (ipykernel)",
   "language": "python",
   "name": "python3"
  },
  "language_info": {
   "codemirror_mode": {
    "name": "ipython",
    "version": 3
   },
   "file_extension": ".py",
   "mimetype": "text/x-python",
   "name": "python",
   "nbconvert_exporter": "python",
   "pygments_lexer": "ipython3",
   "version": "3.12.3"
  }
 },
 "nbformat": 4,
 "nbformat_minor": 5
}
