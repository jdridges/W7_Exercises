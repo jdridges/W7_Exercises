{
 "cells": [
  {
   "cell_type": "markdown",
   "id": "3207db82-05ee-4083-9cb1-6d3c53f21901",
   "metadata": {},
   "source": [
    "### Mathematical Tools in NumPy"
   ]
  },
  {
   "cell_type": "code",
   "execution_count": 1,
   "id": "b498b8c1-ae6b-4ce9-9bab-231a6aa19762",
   "metadata": {},
   "outputs": [],
   "source": [
    "import numpy as np"
   ]
  },
  {
   "cell_type": "code",
   "execution_count": 2,
   "id": "462a2707-fda2-48e8-9122-04ff080ec1ee",
   "metadata": {},
   "outputs": [
    {
     "data": {
      "text/plain": [
       "array(['a', 'b', 'c', 'd', 'e'], dtype='<U1')"
      ]
     },
     "execution_count": 2,
     "metadata": {},
     "output_type": "execute_result"
    }
   ],
   "source": [
    "a = np.array(['a', 'b', 'c', 'd', 'e'])\n",
    "a"
   ]
  },
  {
   "cell_type": "code",
   "execution_count": 3,
   "id": "5b12f3bd-bbd2-42cb-a9c9-308d181819c0",
   "metadata": {},
   "outputs": [
    {
     "data": {
      "text/plain": [
       "array(['c', 'b', 'e', 'a', 'd'], dtype='<U1')"
      ]
     },
     "execution_count": 3,
     "metadata": {},
     "output_type": "execute_result"
    }
   ],
   "source": [
    "np.random.permutation(a)"
   ]
  },
  {
   "cell_type": "code",
   "execution_count": 4,
   "id": "d58ea078-d086-4a87-96b6-573de3a371f4",
   "metadata": {},
   "outputs": [
    {
     "data": {
      "text/plain": [
       "array(['a', 'b', 'c', 'd', 'e'], dtype='<U1')"
      ]
     },
     "execution_count": 4,
     "metadata": {},
     "output_type": "execute_result"
    }
   ],
   "source": [
    "a"
   ]
  },
  {
   "cell_type": "code",
   "execution_count": 5,
   "id": "37ff5b15-0e8a-49ae-8c63-27df6faed5a6",
   "metadata": {},
   "outputs": [
    {
     "data": {
      "text/plain": [
       "array(['d', 'b', 'a', 'c', 'e'], dtype='<U1')"
      ]
     },
     "execution_count": 5,
     "metadata": {},
     "output_type": "execute_result"
    }
   ],
   "source": [
    "np.random.shuffle(a)\n",
    "a"
   ]
  },
  {
   "cell_type": "markdown",
   "id": "8c52a611-f8c0-448c-9337-c95230ec2c92",
   "metadata": {},
   "source": [
    "### Math operations"
   ]
  },
  {
   "cell_type": "code",
   "execution_count": 6,
   "id": "8434d07e-04c8-4d27-9c87-0d1bef044cf0",
   "metadata": {},
   "outputs": [
    {
     "data": {
      "text/plain": [
       "array([1, 2, 3, 4, 5])"
      ]
     },
     "execution_count": 6,
     "metadata": {},
     "output_type": "execute_result"
    }
   ],
   "source": [
    "b = np.array([1, 2, 3, 4, 5])\n",
    "b"
   ]
  },
  {
   "cell_type": "code",
   "execution_count": 7,
   "id": "d6344e39-ffa8-406b-9e94-d01fa8988051",
   "metadata": {},
   "outputs": [
    {
     "data": {
      "text/plain": [
       "array([2, 2, 2, 2, 2])"
      ]
     },
     "execution_count": 7,
     "metadata": {},
     "output_type": "execute_result"
    }
   ],
   "source": [
    "c = np.array([2, 2, 2, 2, 2])\n",
    "c"
   ]
  },
  {
   "cell_type": "code",
   "execution_count": 8,
   "id": "3e7344aa-884e-48fd-8842-d8b36d697ff6",
   "metadata": {},
   "outputs": [
    {
     "data": {
      "text/plain": [
       "array([3, 4, 5, 6, 7])"
      ]
     },
     "execution_count": 8,
     "metadata": {},
     "output_type": "execute_result"
    }
   ],
   "source": [
    "newarr = result = np.add(b, c)\n",
    "newarr"
   ]
  },
  {
   "cell_type": "code",
   "execution_count": 9,
   "id": "c6847874-566b-41d2-97ae-4ce22077825d",
   "metadata": {},
   "outputs": [
    {
     "data": {
      "text/plain": [
       "array([0.5, 1. , 1.5, 2. , 2.5])"
      ]
     },
     "execution_count": 9,
     "metadata": {},
     "output_type": "execute_result"
    }
   ],
   "source": [
    "result_div = np.divide(b, c)\n",
    "result_div"
   ]
  },
  {
   "cell_type": "code",
   "execution_count": 10,
   "id": "0f3bff73-067d-4948-9c88-e86bf3d8819a",
   "metadata": {},
   "outputs": [
    {
     "data": {
      "text/plain": [
       "(array([0, 1, 1, 2, 2]), array([1, 0, 1, 0, 1]))"
      ]
     },
     "execution_count": 10,
     "metadata": {},
     "output_type": "execute_result"
    }
   ],
   "source": [
    "result_divmod = np.divmod(b, c)\n",
    "result_divmod"
   ]
  },
  {
   "cell_type": "markdown",
   "id": "c76e063c-351c-4575-8273-f173ae2c85ef",
   "metadata": {},
   "source": [
    "### Summations"
   ]
  },
  {
   "cell_type": "code",
   "execution_count": 11,
   "id": "be38329a-4faf-4c38-a304-323ca7c656e8",
   "metadata": {},
   "outputs": [],
   "source": [
    "a = np.array([1, 2, 3])\n",
    "b= np.array([1, 2, 3])\n",
    "x = np.array([1, 1, 1])"
   ]
  },
  {
   "cell_type": "code",
   "execution_count": 15,
   "id": "23233f97-238e-4d92-96ff-af042692eaa1",
   "metadata": {},
   "outputs": [
    {
     "data": {
      "text/plain": [
       "array([6, 6, 3])"
      ]
     },
     "execution_count": 15,
     "metadata": {},
     "output_type": "execute_result"
    }
   ],
   "source": [
    "c = np.sum([a, b, x], axis = 1)\n",
    "c"
   ]
  },
  {
   "cell_type": "code",
   "execution_count": 17,
   "id": "553a023b-18ab-4208-b8e7-9767df8d0946",
   "metadata": {},
   "outputs": [
    {
     "data": {
      "text/plain": [
       "array([3, 5, 7])"
      ]
     },
     "execution_count": 17,
     "metadata": {},
     "output_type": "execute_result"
    }
   ],
   "source": [
    "d = np.sum([a, b, x], axis = 0)\n",
    "d\n"
   ]
  },
  {
   "cell_type": "code",
   "execution_count": 18,
   "id": "9d111720-948d-4801-bfa6-40f75977c2aa",
   "metadata": {},
   "outputs": [
    {
     "data": {
      "text/plain": [
       "array([1, 3, 6])"
      ]
     },
     "execution_count": 18,
     "metadata": {},
     "output_type": "execute_result"
    }
   ],
   "source": [
    "a_cum1 = np.cumsum(a)\n",
    "a_cum1"
   ]
  },
  {
   "cell_type": "code",
   "execution_count": 19,
   "id": "a60ab075-ecf7-4822-b133-a1fc9413a8f1",
   "metadata": {},
   "outputs": [
    {
     "data": {
      "text/plain": [
       "array([1, 2, 3])"
      ]
     },
     "execution_count": 19,
     "metadata": {},
     "output_type": "execute_result"
    }
   ],
   "source": [
    "x_cum1 = np.cumsum(x)\n",
    "x_cum1"
   ]
  },
  {
   "cell_type": "code",
   "execution_count": 20,
   "id": "5fc70c6e-e7c6-4895-a6aa-6f26a8604113",
   "metadata": {},
   "outputs": [
    {
     "data": {
      "text/plain": [
       "array([1, 2, 6])"
      ]
     },
     "execution_count": 20,
     "metadata": {},
     "output_type": "execute_result"
    }
   ],
   "source": [
    "a_cprod = np.cumprod(a)\n",
    "a_cprod"
   ]
  },
  {
   "cell_type": "code",
   "execution_count": 21,
   "id": "5a156138-826f-4147-8e22-5301d5416300",
   "metadata": {},
   "outputs": [
    {
     "data": {
      "text/plain": [
       "array([6, 6])"
      ]
     },
     "execution_count": 21,
     "metadata": {},
     "output_type": "execute_result"
    }
   ],
   "source": [
    "a_prod = np.prod([a, b], axis = 1)\n",
    "a_prod"
   ]
  },
  {
   "cell_type": "code",
   "execution_count": 22,
   "id": "f15c7429-3d68-4745-a4d6-3564bfbb7a79",
   "metadata": {},
   "outputs": [
    {
     "data": {
      "text/plain": [
       "array([1, 4, 9])"
      ]
     },
     "execution_count": 22,
     "metadata": {},
     "output_type": "execute_result"
    }
   ],
   "source": [
    "a_prod2 = np.prod([a, b], axis = 0)\n",
    "a_prod2"
   ]
  },
  {
   "cell_type": "markdown",
   "id": "d163853a-cf3a-4d69-8997-e4f0219a32f9",
   "metadata": {},
   "source": [
    "### Differences"
   ]
  },
  {
   "cell_type": "code",
   "execution_count": 23,
   "id": "7054adf6-5908-4e24-9edf-1fa94771f30c",
   "metadata": {},
   "outputs": [
    {
     "data": {
      "text/plain": [
       "array([1, 1])"
      ]
     },
     "execution_count": 23,
     "metadata": {},
     "output_type": "execute_result"
    }
   ],
   "source": [
    "a_diff = np.diff(a)\n",
    "a_diff"
   ]
  },
  {
   "cell_type": "code",
   "execution_count": 24,
   "id": "a39da065-3db4-4fd1-ac8c-8386d74ce531",
   "metadata": {},
   "outputs": [
    {
     "data": {
      "text/plain": [
       "array([0, 0])"
      ]
     },
     "execution_count": 24,
     "metadata": {},
     "output_type": "execute_result"
    }
   ],
   "source": [
    "x_diff = np.diff(x)\n",
    "x_diff"
   ]
  },
  {
   "cell_type": "code",
   "execution_count": 25,
   "id": "bf6d1a17-cdc7-4d60-9702-cedeaef07883",
   "metadata": {},
   "outputs": [
    {
     "data": {
      "text/plain": [
       "array([ -5,  15, -17])"
      ]
     },
     "execution_count": 25,
     "metadata": {},
     "output_type": "execute_result"
    }
   ],
   "source": [
    "w= np.array([10, 5, 20, 3])\n",
    "\n",
    "w_diff = np.diff(w)\n",
    "w_diff"
   ]
  },
  {
   "cell_type": "code",
   "execution_count": 26,
   "id": "b3325647-99df-47da-aa58-47fad6b149a0",
   "metadata": {},
   "outputs": [
    {
     "data": {
      "text/plain": [
       "array([-52])"
      ]
     },
     "execution_count": 26,
     "metadata": {},
     "output_type": "execute_result"
    }
   ],
   "source": [
    "w_diff_3 = np.diff(w, n=3)\n",
    "w_diff_3"
   ]
  },
  {
   "cell_type": "code",
   "execution_count": null,
   "id": "7f61f8fb-5328-4c42-b8f7-da97efa0708e",
   "metadata": {},
   "outputs": [],
   "source": []
  }
 ],
 "metadata": {
  "kernelspec": {
   "display_name": "Python 3 (ipykernel)",
   "language": "python",
   "name": "python3"
  },
  "language_info": {
   "codemirror_mode": {
    "name": "ipython",
    "version": 3
   },
   "file_extension": ".py",
   "mimetype": "text/x-python",
   "name": "python",
   "nbconvert_exporter": "python",
   "pygments_lexer": "ipython3",
   "version": "3.12.3"
  }
 },
 "nbformat": 4,
 "nbformat_minor": 5
}
