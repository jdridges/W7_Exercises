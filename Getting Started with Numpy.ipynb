{
 "cells": [
  {
   "cell_type": "markdown",
   "id": "206c5975-df27-4603-a0c7-b219f92afec6",
   "metadata": {},
   "source": [
    "Exercise 2.A NumPy fundamentals"
   ]
  },
  {
   "cell_type": "code",
   "execution_count": 1,
   "id": "9f1c5738-0576-496e-baeb-84589e22445e",
   "metadata": {},
   "outputs": [],
   "source": [
    "import numpy as np"
   ]
  },
  {
   "cell_type": "markdown",
   "id": "c3ae2a20-1322-4bc0-97a0-db70b170f1b8",
   "metadata": {},
   "source": [
    "Array Basics"
   ]
  },
  {
   "cell_type": "code",
   "execution_count": 2,
   "id": "bdcded55-e4b9-4928-8761-46e0c1aab1dc",
   "metadata": {},
   "outputs": [],
   "source": [
    "fruits = ['apple', 'banana', 'cherry', 'date']\n"
   ]
  },
  {
   "cell_type": "code",
   "execution_count": 3,
   "id": "b6404083-f1d3-44bb-b979-17a9c9af1149",
   "metadata": {},
   "outputs": [],
   "source": [
    "arr_1 = np.array(fruits)"
   ]
  },
  {
   "cell_type": "code",
   "execution_count": 4,
   "id": "03f4c3cc-f21e-466f-b316-7cd0698876e1",
   "metadata": {},
   "outputs": [
    {
     "name": "stdout",
     "output_type": "stream",
     "text": [
      "['apple' 'banana' 'cherry' 'date']\n"
     ]
    }
   ],
   "source": [
    "print(arr_1)"
   ]
  },
  {
   "cell_type": "code",
   "execution_count": 5,
   "id": "e39ce01f-5dd1-46f0-98bb-c174d70de855",
   "metadata": {},
   "outputs": [
    {
     "data": {
      "text/plain": [
       "dtype('<U6')"
      ]
     },
     "execution_count": 5,
     "metadata": {},
     "output_type": "execute_result"
    }
   ],
   "source": [
    "arr_1.dtype"
   ]
  },
  {
   "cell_type": "code",
   "execution_count": 6,
   "id": "c22449d7-f022-44f3-8595-82dfa305b0b0",
   "metadata": {},
   "outputs": [],
   "source": [
    "#U refers to unicode string and 6 refers to the size of characters in the output."
   ]
  },
  {
   "cell_type": "code",
   "execution_count": 7,
   "id": "fd8ac142-befc-4ab6-8c96-d9b6d26e9d89",
   "metadata": {},
   "outputs": [],
   "source": [
    "arr_2 = np.array([[10, 11, 12], [13, 14, 15]])"
   ]
  },
  {
   "cell_type": "code",
   "execution_count": 8,
   "id": "fb018404-e989-40cb-bb12-49ff6392b4ca",
   "metadata": {},
   "outputs": [
    {
     "name": "stdout",
     "output_type": "stream",
     "text": [
      "[[10 11 12]\n",
      " [13 14 15]]\n"
     ]
    }
   ],
   "source": [
    "print(arr_2)"
   ]
  },
  {
   "cell_type": "code",
   "execution_count": 9,
   "id": "646913f0-1e25-4b1c-a698-5d908693b4e1",
   "metadata": {},
   "outputs": [
    {
     "name": "stdout",
     "output_type": "stream",
     "text": [
      "[[10 13]\n",
      " [11 14]\n",
      " [12 15]]\n"
     ]
    }
   ],
   "source": [
    "print(arr_2.T)"
   ]
  },
  {
   "cell_type": "code",
   "execution_count": 10,
   "id": "ab8ab8f7-1739-4a71-af4e-6b6475f9a727",
   "metadata": {},
   "outputs": [],
   "source": [
    "#as you can see, transposing array 2 does alter the values stored in array 2. The shape goes from (2, 3) initially to (3, 2) after transpose process. "
   ]
  },
  {
   "cell_type": "code",
   "execution_count": 12,
   "id": "a972d02c-09d9-482e-943d-4c2fd78c81ad",
   "metadata": {},
   "outputs": [],
   "source": [
    "arr_3 = np.array([[1, 3, 5], [2, 4, 6]])"
   ]
  },
  {
   "cell_type": "code",
   "execution_count": 13,
   "id": "35f0c669-6604-4227-a530-c7d407de2a09",
   "metadata": {},
   "outputs": [
    {
     "name": "stdout",
     "output_type": "stream",
     "text": [
      "[[1 3 5]\n",
      " [2 4 6]]\n"
     ]
    }
   ],
   "source": [
    "print(arr_3)"
   ]
  },
  {
   "cell_type": "code",
   "execution_count": 14,
   "id": "67afd008-c495-4b31-93bd-4c163bf12060",
   "metadata": {},
   "outputs": [],
   "source": [
    "arr_4 = np.array([arr_3[0][2], arr_3[1][1]])"
   ]
  },
  {
   "cell_type": "code",
   "execution_count": 15,
   "id": "4d704e40-b7db-415e-b410-4ab9d5eb4ca5",
   "metadata": {},
   "outputs": [
    {
     "name": "stdout",
     "output_type": "stream",
     "text": [
      "[5 4]\n"
     ]
    }
   ],
   "source": [
    "print(arr_4)"
   ]
  },
  {
   "cell_type": "code",
   "execution_count": 16,
   "id": "6135f0be-42ad-4967-ba11-aa28babbd897",
   "metadata": {},
   "outputs": [],
   "source": [
    "arr_5 = np.array([[[1, 1], [1, 1]], [[1, 1], [1, 1]]])"
   ]
  },
  {
   "cell_type": "code",
   "execution_count": 17,
   "id": "f05e316d-e58e-4e8d-842b-d0be0fab633b",
   "metadata": {},
   "outputs": [
    {
     "name": "stdout",
     "output_type": "stream",
     "text": [
      "[[[1 1]\n",
      "  [1 1]]\n",
      "\n",
      " [[1 1]\n",
      "  [1 1]]]\n"
     ]
    }
   ],
   "source": [
    "print(arr_5)"
   ]
  },
  {
   "cell_type": "code",
   "execution_count": null,
   "id": "f63a3e65-73cd-4806-a7f0-f23f1d8ca38f",
   "metadata": {},
   "outputs": [],
   "source": []
  }
 ],
 "metadata": {
  "kernelspec": {
   "display_name": "Python 3 (ipykernel)",
   "language": "python",
   "name": "python3"
  },
  "language_info": {
   "codemirror_mode": {
    "name": "ipython",
    "version": 3
   },
   "file_extension": ".py",
   "mimetype": "text/x-python",
   "name": "python",
   "nbconvert_exporter": "python",
   "pygments_lexer": "ipython3",
   "version": "3.12.3"
  }
 },
 "nbformat": 4,
 "nbformat_minor": 5
}
